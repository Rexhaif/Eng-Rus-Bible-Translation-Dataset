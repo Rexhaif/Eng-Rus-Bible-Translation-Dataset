{
 "cells": [
  {
   "cell_type": "code",
   "execution_count": 6,
   "metadata": {},
   "outputs": [],
   "source": [
    "with open('EnglishBible.txt', mode='r', encoding='utf8') as file:\n",
    "    english = file.read()"
   ]
  },
  {
   "cell_type": "code",
   "execution_count": 9,
   "metadata": {},
   "outputs": [],
   "source": [
    "from tqdm import tqdm"
   ]
  },
  {
   "cell_type": "code",
   "execution_count": 11,
   "metadata": {},
   "outputs": [],
   "source": [
    "def convert_bible(txt):\n",
    "    lines = txt.split(\"\\n\")\n",
    "    values = []\n",
    "    for line in tqdm(lines):\n",
    "        sp = line.split(\"||\")\n",
    "        values.append(sp)\n",
    "        \n",
    "    return values"
   ]
  },
  {
   "cell_type": "code",
   "execution_count": 16,
   "metadata": {},
   "outputs": [
    {
     "name": "stderr",
     "output_type": "stream",
     "text": [
      "100%|██████████| 31104/31104 [00:00<00:00, 372673.66it/s]\n"
     ]
    }
   ],
   "source": [
    "eng_values = convert_bible(english)"
   ]
  },
  {
   "cell_type": "code",
   "execution_count": 13,
   "metadata": {},
   "outputs": [
    {
     "data": {
      "text/plain": [
       "['01O', '1', '1', 'In the beginning God created the heavens and the earth.']"
      ]
     },
     "execution_count": 13,
     "metadata": {},
     "output_type": "execute_result"
    }
   ],
   "source": [
    "values[0]"
   ]
  },
  {
   "cell_type": "code",
   "execution_count": 14,
   "metadata": {},
   "outputs": [],
   "source": [
    "with open('RussianBible.txt', mode='r', encoding='utf8') as file:\n",
    "    russian = file.read()"
   ]
  },
  {
   "cell_type": "code",
   "execution_count": 15,
   "metadata": {},
   "outputs": [
    {
     "name": "stderr",
     "output_type": "stream",
     "text": [
      "100%|██████████| 31103/31103 [00:00<00:00, 506943.96it/s]\n"
     ]
    }
   ],
   "source": [
    "rus_values = convert_bible(russian)"
   ]
  },
  {
   "cell_type": "code",
   "execution_count": 25,
   "metadata": {},
   "outputs": [
    {
     "data": {
      "text/plain": [
       "['01O', '1', '1']"
      ]
     },
     "execution_count": 25,
     "metadata": {},
     "output_type": "execute_result"
    }
   ],
   "source": [
    "rus_values[0][:3]"
   ]
  },
  {
   "cell_type": "code",
   "execution_count": 17,
   "metadata": {},
   "outputs": [
    {
     "data": {
      "text/plain": [
       "31104"
      ]
     },
     "execution_count": 17,
     "metadata": {},
     "output_type": "execute_result"
    }
   ],
   "source": [
    "len(eng_values)"
   ]
  },
  {
   "cell_type": "code",
   "execution_count": 18,
   "metadata": {},
   "outputs": [
    {
     "data": {
      "text/plain": [
       "31103"
      ]
     },
     "execution_count": 18,
     "metadata": {},
     "output_type": "execute_result"
    }
   ],
   "source": [
    "len(rus_values)"
   ]
  },
  {
   "cell_type": "code",
   "execution_count": 45,
   "metadata": {},
   "outputs": [
    {
     "data": {
      "text/plain": [
       "['01O', '1', '3', 'И сказал Бог: да будет свет. И сталсвет.']"
      ]
     },
     "execution_count": 45,
     "metadata": {},
     "output_type": "execute_result"
    }
   ],
   "source": [
    "rus_values[2]"
   ]
  },
  {
   "cell_type": "code",
   "execution_count": 34,
   "metadata": {},
   "outputs": [
    {
     "name": "stdout",
     "output_type": "stream",
     "text": [
      "['']\n",
      "31103\n"
     ]
    }
   ],
   "source": [
    "for i, s in enumerate(eng_values):\n",
    "    if len(s) is not 4:\n",
    "        print(s)\n",
    "        print(i)"
   ]
  },
  {
   "cell_type": "code",
   "execution_count": 69,
   "metadata": {},
   "outputs": [
    {
     "name": "stderr",
     "output_type": "stream",
     "text": [
      "100%|██████████| 31104/31104 [00:00<00:00, 445114.95it/s]\n"
     ]
    }
   ],
   "source": [
    "sentences = dict()\n",
    "for s in tqdm(eng_values):\n",
    "    if len(s) is not 4:\n",
    "        continue\n",
    "    sentences[\"-\".join(s[:3])] = [s[3]]"
   ]
  },
  {
   "cell_type": "code",
   "execution_count": 70,
   "metadata": {},
   "outputs": [
    {
     "name": "stderr",
     "output_type": "stream",
     "text": [
      "100%|██████████| 31103/31103 [00:00<00:00, 450976.89it/s]\n"
     ]
    }
   ],
   "source": [
    "for s in tqdm(rus_values):\n",
    "    if len(s) is not 4:\n",
    "        continue\n",
    "    sentences[\"-\".join(s[:3])].append(s[3])"
   ]
  },
  {
   "cell_type": "code",
   "execution_count": 44,
   "metadata": {},
   "outputs": [
    {
     "data": {
      "text/plain": [
       "[('01O-1-1',\n",
       "  ['In the beginning God created the heavens and the earth.',\n",
       "   'В начале сотворил Бог небо и землю.']),\n",
       " ('01O-1-2',\n",
       "  ['And the earth was waste and void; and darkness was upon the face of the deep: and the Spirit of God moved upon the face of the waters',\n",
       "   'Земля же была безвидна и пуста, и тьма над бездною, и Дух Божий носился над водою.']),\n",
       " ('01O-1-3',\n",
       "  ['And God said, Let there be light: and there was light.',\n",
       "   'И сказал Бог: да будет свет. И сталсвет.'])]"
      ]
     },
     "execution_count": 44,
     "metadata": {},
     "output_type": "execute_result"
    }
   ],
   "source": [
    "list(sentences.items())[:3]"
   ]
  },
  {
   "cell_type": "code",
   "execution_count": 71,
   "metadata": {},
   "outputs": [
    {
     "name": "stdout",
     "output_type": "stream",
     "text": [
      "64N-1-15 ['Peace [be] unto thee. The friends salute thee. Salute the friends by name. ']\n"
     ]
    }
   ],
   "source": [
    "for triplet in sentences.items():\n",
    "    if len(triplet[1]) is not 2:\n",
    "        print(triplet[0], triplet[1])"
   ]
  },
  {
   "cell_type": "code",
   "execution_count": 72,
   "metadata": {},
   "outputs": [
    {
     "data": {
      "text/plain": [
       "['Peace [be] unto thee. The friends salute thee. Salute the friends by name. ']"
      ]
     },
     "execution_count": 72,
     "metadata": {},
     "output_type": "execute_result"
    }
   ],
   "source": [
    "sentences.pop(\"64N-1-15\")"
   ]
  },
  {
   "cell_type": "code",
   "execution_count": 49,
   "metadata": {},
   "outputs": [],
   "source": [
    "import pandas as pd"
   ]
  },
  {
   "cell_type": "code",
   "execution_count": 51,
   "metadata": {},
   "outputs": [
    {
     "name": "stderr",
     "output_type": "stream",
     "text": [
      "100%|██████████| 31102/31102 [00:00<00:00, 593143.53it/s]\n"
     ]
    }
   ],
   "source": [
    "verse_names = []\n",
    "russian = []\n",
    "english = []\n",
    "for triplet in tqdm(sentences.items()):\n",
    "    verse_names.append(triplet[0])\n",
    "    english.append(triplet[1][0])\n",
    "    russian.append(triplet[1][1])"
   ]
  },
  {
   "cell_type": "code",
   "execution_count": 52,
   "metadata": {},
   "outputs": [
    {
     "data": {
      "text/plain": [
       "(31102, 31102, 31102)"
      ]
     },
     "execution_count": 52,
     "metadata": {},
     "output_type": "execute_result"
    }
   ],
   "source": [
    "len(verse_names), len(russian), len(english)"
   ]
  },
  {
   "cell_type": "code",
   "execution_count": 53,
   "metadata": {},
   "outputs": [],
   "source": [
    "verses = pd.DataFrame({\n",
    "    'verse': verse_names,\n",
    "    'english': english,\n",
    "    'russian': russian\n",
    "})"
   ]
  },
  {
   "cell_type": "code",
   "execution_count": 54,
   "metadata": {},
   "outputs": [
    {
     "data": {
      "text/html": [
       "<div>\n",
       "<style scoped>\n",
       "    .dataframe tbody tr th:only-of-type {\n",
       "        vertical-align: middle;\n",
       "    }\n",
       "\n",
       "    .dataframe tbody tr th {\n",
       "        vertical-align: top;\n",
       "    }\n",
       "\n",
       "    .dataframe thead th {\n",
       "        text-align: right;\n",
       "    }\n",
       "</style>\n",
       "<table border=\"1\" class=\"dataframe\">\n",
       "  <thead>\n",
       "    <tr style=\"text-align: right;\">\n",
       "      <th></th>\n",
       "      <th>verse</th>\n",
       "      <th>english</th>\n",
       "      <th>russian</th>\n",
       "    </tr>\n",
       "  </thead>\n",
       "  <tbody>\n",
       "    <tr>\n",
       "      <th>0</th>\n",
       "      <td>01O-1-1</td>\n",
       "      <td>In the beginning God created the heavens and t...</td>\n",
       "      <td>В начале сотворил Бог небо и землю.</td>\n",
       "    </tr>\n",
       "    <tr>\n",
       "      <th>1</th>\n",
       "      <td>01O-1-2</td>\n",
       "      <td>And the earth was waste and void; and darkness...</td>\n",
       "      <td>Земля же была безвидна и пуста, и тьма над без...</td>\n",
       "    </tr>\n",
       "    <tr>\n",
       "      <th>2</th>\n",
       "      <td>01O-1-3</td>\n",
       "      <td>And God said, Let there be light: and there wa...</td>\n",
       "      <td>И сказал Бог: да будет свет. И сталсвет.</td>\n",
       "    </tr>\n",
       "    <tr>\n",
       "      <th>3</th>\n",
       "      <td>01O-1-4</td>\n",
       "      <td>And God saw the light, that it was good: and G...</td>\n",
       "      <td>И увидел Бог свет, что он хорош, и отделил Бог...</td>\n",
       "    </tr>\n",
       "    <tr>\n",
       "      <th>4</th>\n",
       "      <td>01O-1-5</td>\n",
       "      <td>And God called the light Day, and the darkness...</td>\n",
       "      <td>И назвал Бог свет днем, а тьму ночью. И был ве...</td>\n",
       "    </tr>\n",
       "    <tr>\n",
       "      <th>5</th>\n",
       "      <td>01O-1-6</td>\n",
       "      <td>And God said, Let there be a firmament in the ...</td>\n",
       "      <td>И сказал Бог: да будет твердь посреди воды, и ...</td>\n",
       "    </tr>\n",
       "    <tr>\n",
       "      <th>6</th>\n",
       "      <td>01O-1-7</td>\n",
       "      <td>And God made the firmament, and divided the wa...</td>\n",
       "      <td>И создал Бог твердь, и отделил воду, которая п...</td>\n",
       "    </tr>\n",
       "    <tr>\n",
       "      <th>7</th>\n",
       "      <td>01O-1-8</td>\n",
       "      <td>And God called the firmament Heaven. And there...</td>\n",
       "      <td>И назвал Бог твердь небом. И был вечер, и было...</td>\n",
       "    </tr>\n",
       "    <tr>\n",
       "      <th>8</th>\n",
       "      <td>01O-1-9</td>\n",
       "      <td>And God said, Let the waters under the heavens...</td>\n",
       "      <td>И сказал Бог: да соберется вода, которая под н...</td>\n",
       "    </tr>\n",
       "    <tr>\n",
       "      <th>9</th>\n",
       "      <td>01O-1-10</td>\n",
       "      <td>And God called the dry land Earth; and the gat...</td>\n",
       "      <td>И назвал Бог сушу землею, а собрание вод назва...</td>\n",
       "    </tr>\n",
       "  </tbody>\n",
       "</table>\n",
       "</div>"
      ],
      "text/plain": [
       "      verse                                            english  \\\n",
       "0   01O-1-1  In the beginning God created the heavens and t...   \n",
       "1   01O-1-2  And the earth was waste and void; and darkness...   \n",
       "2   01O-1-3  And God said, Let there be light: and there wa...   \n",
       "3   01O-1-4  And God saw the light, that it was good: and G...   \n",
       "4   01O-1-5  And God called the light Day, and the darkness...   \n",
       "5   01O-1-6  And God said, Let there be a firmament in the ...   \n",
       "6   01O-1-7  And God made the firmament, and divided the wa...   \n",
       "7   01O-1-8  And God called the firmament Heaven. And there...   \n",
       "8   01O-1-9  And God said, Let the waters under the heavens...   \n",
       "9  01O-1-10  And God called the dry land Earth; and the gat...   \n",
       "\n",
       "                                             russian  \n",
       "0                В начале сотворил Бог небо и землю.  \n",
       "1  Земля же была безвидна и пуста, и тьма над без...  \n",
       "2           И сказал Бог: да будет свет. И сталсвет.  \n",
       "3  И увидел Бог свет, что он хорош, и отделил Бог...  \n",
       "4  И назвал Бог свет днем, а тьму ночью. И был ве...  \n",
       "5  И сказал Бог: да будет твердь посреди воды, и ...  \n",
       "6  И создал Бог твердь, и отделил воду, которая п...  \n",
       "7  И назвал Бог твердь небом. И был вечер, и было...  \n",
       "8  И сказал Бог: да соберется вода, которая под н...  \n",
       "9  И назвал Бог сушу землею, а собрание вод назва...  "
      ]
     },
     "execution_count": 54,
     "metadata": {},
     "output_type": "execute_result"
    }
   ],
   "source": [
    "verses.head(10)"
   ]
  },
  {
   "cell_type": "code",
   "execution_count": 55,
   "metadata": {},
   "outputs": [],
   "source": [
    "verses.to_csv('verses.csv', index=False, encoding='utf8')"
   ]
  },
  {
   "cell_type": "code",
   "execution_count": 65,
   "metadata": {},
   "outputs": [
    {
     "name": "stdout",
     "output_type": "stream",
     "text": [
      "[nltk_data] Downloading package punkt to /home/dslarionov/nltk_data...\n",
      "[nltk_data]   Package punkt is already up-to-date!\n"
     ]
    },
    {
     "data": {
      "text/plain": [
       "True"
      ]
     },
     "execution_count": 65,
     "metadata": {},
     "output_type": "execute_result"
    }
   ],
   "source": [
    "import nltk\n",
    "nltk.download('punkt')"
   ]
  },
  {
   "cell_type": "code",
   "execution_count": 77,
   "metadata": {},
   "outputs": [
    {
     "data": {
      "text/plain": [
       "'В начале сотворил Бог небо и землю.'"
      ]
     },
     "execution_count": 77,
     "metadata": {},
     "output_type": "execute_result"
    }
   ],
   "source": [
    "list(sentences.items())[0][1][1]"
   ]
  },
  {
   "cell_type": "code",
   "execution_count": 81,
   "metadata": {},
   "outputs": [
    {
     "name": "stderr",
     "output_type": "stream",
     "text": [
      "100%|██████████| 31102/31102 [00:03<00:00, 9762.42it/s]"
     ]
    },
    {
     "name": "stdout",
     "output_type": "stream",
     "text": [
      "Equal number os sentences in 27693 verses\n",
      "Unequal in 3409\n"
     ]
    },
    {
     "name": "stderr",
     "output_type": "stream",
     "text": [
      "\n"
     ]
    }
   ],
   "source": [
    "count = 0\n",
    "for t in tqdm(sentences.items()):\n",
    "    s_eng = nltk.sent_tokenize(t[1][0])\n",
    "    s_rus = nltk.sent_tokenize(t[1][1])\n",
    "    if len(s_eng) is len(s_rus):\n",
    "        count += 1\n",
    "        \n",
    "print(f\"Equal number os sentences in {count} verses\")\n",
    "print(f\"Unequal in {len(sentences) - count}\")"
   ]
  },
  {
   "cell_type": "code",
   "execution_count": 84,
   "metadata": {},
   "outputs": [
    {
     "name": "stderr",
     "output_type": "stream",
     "text": [
      "100%|██████████| 31102/31102 [00:03<00:00, 9625.57it/s]\n"
     ]
    }
   ],
   "source": [
    "verse_names = []\n",
    "ru_sentences = []\n",
    "en_sentences = []\n",
    "for t in tqdm(sentences.items()):\n",
    "    s_eng = nltk.sent_tokenize(t[1][0])\n",
    "    s_rus = nltk.sent_tokenize(t[1][1])\n",
    "    if len(s_eng) is len(s_rus):\n",
    "        for idx in range(len(s_eng)):\n",
    "            verse_names.append(t[0])\n",
    "            en_sentences.append(s_eng[idx])\n",
    "            ru_sentences.append(s_rus[idx])\n",
    "    else:\n",
    "        verse_names.append(t[0])\n",
    "        ru_sentences.append(t[1][1])\n",
    "        en_sentences.append(t[1][0])"
   ]
  },
  {
   "cell_type": "code",
   "execution_count": 85,
   "metadata": {},
   "outputs": [],
   "source": [
    "sentences_df = pd.DataFrame({\n",
    "    'verse_name': verse_names,\n",
    "    'english': en_sentences,\n",
    "    'russian': ru_sentences\n",
    "})"
   ]
  },
  {
   "cell_type": "code",
   "execution_count": 86,
   "metadata": {},
   "outputs": [
    {
     "data": {
      "text/html": [
       "<div>\n",
       "<style scoped>\n",
       "    .dataframe tbody tr th:only-of-type {\n",
       "        vertical-align: middle;\n",
       "    }\n",
       "\n",
       "    .dataframe tbody tr th {\n",
       "        vertical-align: top;\n",
       "    }\n",
       "\n",
       "    .dataframe thead th {\n",
       "        text-align: right;\n",
       "    }\n",
       "</style>\n",
       "<table border=\"1\" class=\"dataframe\">\n",
       "  <thead>\n",
       "    <tr style=\"text-align: right;\">\n",
       "      <th></th>\n",
       "      <th>verse_name</th>\n",
       "      <th>english</th>\n",
       "      <th>russian</th>\n",
       "    </tr>\n",
       "  </thead>\n",
       "  <tbody>\n",
       "    <tr>\n",
       "      <th>0</th>\n",
       "      <td>01O-1-1</td>\n",
       "      <td>In the beginning God created the heavens and t...</td>\n",
       "      <td>В начале сотворил Бог небо и землю.</td>\n",
       "    </tr>\n",
       "    <tr>\n",
       "      <th>1</th>\n",
       "      <td>01O-1-2</td>\n",
       "      <td>And the earth was waste and void; and darkness...</td>\n",
       "      <td>Земля же была безвидна и пуста, и тьма над без...</td>\n",
       "    </tr>\n",
       "    <tr>\n",
       "      <th>2</th>\n",
       "      <td>01O-1-3</td>\n",
       "      <td>And God said, Let there be light: and there wa...</td>\n",
       "      <td>И сказал Бог: да будет свет. И сталсвет.</td>\n",
       "    </tr>\n",
       "    <tr>\n",
       "      <th>3</th>\n",
       "      <td>01O-1-4</td>\n",
       "      <td>And God saw the light, that it was good: and G...</td>\n",
       "      <td>И увидел Бог свет, что он хорош, и отделил Бог...</td>\n",
       "    </tr>\n",
       "    <tr>\n",
       "      <th>4</th>\n",
       "      <td>01O-1-5</td>\n",
       "      <td>And God called the light Day, and the darkness...</td>\n",
       "      <td>И назвал Бог свет днем, а тьму ночью.</td>\n",
       "    </tr>\n",
       "    <tr>\n",
       "      <th>5</th>\n",
       "      <td>01O-1-5</td>\n",
       "      <td>And there was evening and there was morning, o...</td>\n",
       "      <td>И был вечер, и было утро: день один.</td>\n",
       "    </tr>\n",
       "    <tr>\n",
       "      <th>6</th>\n",
       "      <td>01O-1-6</td>\n",
       "      <td>And God said, Let there be a firmament in the ...</td>\n",
       "      <td>И сказал Бог: да будет твердь посреди воды, и ...</td>\n",
       "    </tr>\n",
       "    <tr>\n",
       "      <th>7</th>\n",
       "      <td>01O-1-7</td>\n",
       "      <td>And God made the firmament, and divided the wa...</td>\n",
       "      <td>И создал Бог твердь, и отделил воду, которая п...</td>\n",
       "    </tr>\n",
       "    <tr>\n",
       "      <th>8</th>\n",
       "      <td>01O-1-8</td>\n",
       "      <td>And God called the firmament Heaven.</td>\n",
       "      <td>И назвал Бог твердь небом.</td>\n",
       "    </tr>\n",
       "    <tr>\n",
       "      <th>9</th>\n",
       "      <td>01O-1-8</td>\n",
       "      <td>And there was evening and there was morning, a...</td>\n",
       "      <td>И был вечер, и было утро: день второй.</td>\n",
       "    </tr>\n",
       "  </tbody>\n",
       "</table>\n",
       "</div>"
      ],
      "text/plain": [
       "  verse_name                                            english  \\\n",
       "0    01O-1-1  In the beginning God created the heavens and t...   \n",
       "1    01O-1-2  And the earth was waste and void; and darkness...   \n",
       "2    01O-1-3  And God said, Let there be light: and there wa...   \n",
       "3    01O-1-4  And God saw the light, that it was good: and G...   \n",
       "4    01O-1-5  And God called the light Day, and the darkness...   \n",
       "5    01O-1-5  And there was evening and there was morning, o...   \n",
       "6    01O-1-6  And God said, Let there be a firmament in the ...   \n",
       "7    01O-1-7  And God made the firmament, and divided the wa...   \n",
       "8    01O-1-8               And God called the firmament Heaven.   \n",
       "9    01O-1-8  And there was evening and there was morning, a...   \n",
       "\n",
       "                                             russian  \n",
       "0                В начале сотворил Бог небо и землю.  \n",
       "1  Земля же была безвидна и пуста, и тьма над без...  \n",
       "2           И сказал Бог: да будет свет. И сталсвет.  \n",
       "3  И увидел Бог свет, что он хорош, и отделил Бог...  \n",
       "4              И назвал Бог свет днем, а тьму ночью.  \n",
       "5               И был вечер, и было утро: день один.  \n",
       "6  И сказал Бог: да будет твердь посреди воды, и ...  \n",
       "7  И создал Бог твердь, и отделил воду, которая п...  \n",
       "8                         И назвал Бог твердь небом.  \n",
       "9             И был вечер, и было утро: день второй.  "
      ]
     },
     "execution_count": 86,
     "metadata": {},
     "output_type": "execute_result"
    }
   ],
   "source": [
    "sentences_df.head(10)"
   ]
  },
  {
   "cell_type": "code",
   "execution_count": 87,
   "metadata": {},
   "outputs": [],
   "source": [
    "sentences_df.to_csv('sentences.csv', index=False, encoding='utf8')"
   ]
  },
  {
   "cell_type": "code",
   "execution_count": null,
   "metadata": {},
   "outputs": [],
   "source": []
  }
 ],
 "metadata": {
  "kernelspec": {
   "display_name": "Python 3",
   "language": "python",
   "name": "python3"
  },
  "language_info": {
   "codemirror_mode": {
    "name": "ipython",
    "version": 3
   },
   "file_extension": ".py",
   "mimetype": "text/x-python",
   "name": "python",
   "nbconvert_exporter": "python",
   "pygments_lexer": "ipython3",
   "version": "3.6.5"
  }
 },
 "nbformat": 4,
 "nbformat_minor": 2
}
